{
 "cells": [
  {
   "cell_type": "code",
   "execution_count": 1,
   "metadata": {},
   "outputs": [
    {
     "data": {
      "application/vnd.jupyter.widget-view+json": {
       "model_id": "a13d8286e22e435a84986b5808299de6",
       "version_major": 2,
       "version_minor": 0
      },
      "text/plain": [
       "VBox(children=(Button(description='Theft', style=ButtonStyle()), Image(value=b'', layout=\"Layout(width='100%')…"
      ]
     },
     "metadata": {},
     "output_type": "display_data"
    },
    {
     "name": "stdout",
     "output_type": "stream",
     "text": [
      "Theft IDX: 6\n"
     ]
    }
   ],
   "source": [
    "import cv2 \n",
    "import os\n",
    "import uuid\n",
    "import IPython\n",
    "import ipywidgets as widgets\n",
    "from IPython.display import display\n",
    "from ratelimiter import RateLimiter\n",
    "\n",
    "ipython = IPython.get_ipython()\n",
    "\n",
    "SESSION = str(uuid.uuid1())\n",
    "IDX = 1\n",
    "DATA = \"data\"\n",
    "FPS = 10\n",
    "THEFT = -1\n",
    "\n",
    "def on_button_clicked(b):\n",
    "    global THEFT, IDX\n",
    "    THEFT = IDX\n",
    "    print(\"Theft IDX: %d\" % THEFT)\n",
    "    \n",
    "w_image = widgets.Image(format='png',\n",
    "                        layout=widgets.Layout(width='100%'))\n",
    "\n",
    "w_button = widgets.Button(description=\"Theft\")\n",
    "w_button.on_click(on_button_clicked)\n",
    "\n",
    "w_vbox = widgets.VBox([w_button, w_image])\n",
    "\n",
    "display(w_vbox)\n",
    "\n",
    "cap = cv2.VideoCapture(0)\n",
    "\n",
    "rate_limiter = RateLimiter(max_calls=1, period=1/FPS)\n",
    "\n",
    "if not os.path.exists('sessions.csv'):\n",
    "    open('sessions.csv', 'w').write('uuid,fps,frames,theft_idx\\n')\n",
    "\n",
    "try:    \n",
    "    while True:\n",
    "        with rate_limiter:\n",
    "            # Have to call this to get update values from sliders / dropdowns\n",
    "            ipython.kernel.do_one_iteration()\n",
    "\n",
    "            # Read the frame from the camera\n",
    "            ret, frame = cap.read()\n",
    "\n",
    "            result, img_png = cv2.imencode('.png', frame)\n",
    "            w_image.value = img_png.tobytes()\n",
    "            \n",
    "            open(os.path.join(DATA, \"%s_%d.png\" % (SESSION, IDX)), 'wb').write(img_png)\n",
    "            \n",
    "            IDX += 1\n",
    "\n",
    "except KeyboardInterrupt:\n",
    "    pass\n",
    "finally:\n",
    "    cap.release()\n",
    "    open('sessions.csv', 'a+').write(\"%s,%d,%d,%d\\n\" % (SESSION, FPS, IDX, THEFT))\n",
    "\n"
   ]
  },
  {
   "cell_type": "code",
   "execution_count": null,
   "metadata": {},
   "outputs": [],
   "source": []
  }
 ],
 "metadata": {
  "kernelspec": {
   "display_name": "Python 3",
   "language": "python",
   "name": "python3"
  },
  "language_info": {
   "codemirror_mode": {
    "name": "ipython",
    "version": 3
   },
   "file_extension": ".py",
   "mimetype": "text/x-python",
   "name": "python",
   "nbconvert_exporter": "python",
   "pygments_lexer": "ipython3",
   "version": "3.7.4"
  },
  "pycharm": {
   "stem_cell": {
    "cell_type": "raw",
    "metadata": {
     "collapsed": false
    },
    "source": []
   }
  }
 },
 "nbformat": 4,
 "nbformat_minor": 2
}
